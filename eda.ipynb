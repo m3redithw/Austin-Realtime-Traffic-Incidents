{
 "cells": [
  {
   "cell_type": "markdown",
   "id": "2a6ef894",
   "metadata": {},
   "source": [
    "# Wrangle Austin Traffic Data"
   ]
  },
  {
   "cell_type": "code",
   "execution_count": 1,
   "id": "1d9f0833",
   "metadata": {},
   "outputs": [],
   "source": [
    "import pandas as pd\n",
    "import numpy as np\n",
    "import matplotlib.pyplot as plt\n",
    "import seaborn as sns"
   ]
  },
  {
   "cell_type": "code",
   "execution_count": 2,
   "id": "bc5163bb",
   "metadata": {},
   "outputs": [],
   "source": [
    "df = pd.read_csv('reports.csv')"
   ]
  },
  {
   "cell_type": "code",
   "execution_count": 3,
   "id": "a7ce44f9",
   "metadata": {},
   "outputs": [
    {
     "data": {
      "text/html": [
       "<div>\n",
       "<style scoped>\n",
       "    .dataframe tbody tr th:only-of-type {\n",
       "        vertical-align: middle;\n",
       "    }\n",
       "\n",
       "    .dataframe tbody tr th {\n",
       "        vertical-align: top;\n",
       "    }\n",
       "\n",
       "    .dataframe thead th {\n",
       "        text-align: right;\n",
       "    }\n",
       "</style>\n",
       "<table border=\"1\" class=\"dataframe\">\n",
       "  <thead>\n",
       "    <tr style=\"text-align: right;\">\n",
       "      <th></th>\n",
       "      <th>Traffic Report ID</th>\n",
       "      <th>Published Date</th>\n",
       "      <th>Issue Reported</th>\n",
       "      <th>Location</th>\n",
       "      <th>Latitude</th>\n",
       "      <th>Longitude</th>\n",
       "      <th>Address</th>\n",
       "      <th>Status</th>\n",
       "      <th>Status Date</th>\n",
       "    </tr>\n",
       "  </thead>\n",
       "  <tbody>\n",
       "    <tr>\n",
       "      <th>0</th>\n",
       "      <td>C163BCD1CF90C984E9EDA4DBA311BCA369A7D1A1_15288...</td>\n",
       "      <td>06/13/2018 06:35:59 AM +0000</td>\n",
       "      <td>Crash Service</td>\n",
       "      <td>(30.283797,-97.741906)</td>\n",
       "      <td>30.283797</td>\n",
       "      <td>-97.741906</td>\n",
       "      <td>W 21ST ST &amp; GUADALUPE ST</td>\n",
       "      <td>ARCHIVED</td>\n",
       "      <td>06/13/2018 09:00:03 AM +0000</td>\n",
       "    </tr>\n",
       "    <tr>\n",
       "      <th>1</th>\n",
       "      <td>6B20382196FB454E9FD06A33E60142902A2F0706_15288...</td>\n",
       "      <td>06/13/2018 10:15:36 AM +0000</td>\n",
       "      <td>Traffic Hazard</td>\n",
       "      <td>(30.339593,-97.700963)</td>\n",
       "      <td>30.339593</td>\n",
       "      <td>-97.700963</td>\n",
       "      <td>400-717 E ANDERSON LN EB</td>\n",
       "      <td>ARCHIVED</td>\n",
       "      <td>06/13/2018 11:20:03 AM +0000</td>\n",
       "    </tr>\n",
       "    <tr>\n",
       "      <th>2</th>\n",
       "      <td>2A7A84FC69D56A2C379C274D2F0831442D3E7B8E_15871...</td>\n",
       "      <td>04/17/2020 09:25:03 PM +0000</td>\n",
       "      <td>Crash Urgent</td>\n",
       "      <td>(30.329455,-97.638105)</td>\n",
       "      <td>30.329455</td>\n",
       "      <td>-97.638105</td>\n",
       "      <td>E US 290 HWY SVRD EB &amp; EASTERN HEIGHTS BLVD</td>\n",
       "      <td>ARCHIVED</td>\n",
       "      <td>04/17/2020 09:55:03 PM +0000</td>\n",
       "    </tr>\n",
       "    <tr>\n",
       "      <th>3</th>\n",
       "      <td>89D3B75BB5932F10D25B5852A9902DA26C3DF11A_15871...</td>\n",
       "      <td>04/17/2020 09:40:52 PM +0000</td>\n",
       "      <td>Traffic Hazard</td>\n",
       "      <td>(30.202806,-97.760701)</td>\n",
       "      <td>30.202806</td>\n",
       "      <td>-97.760701</td>\n",
       "      <td>5300-blk S Ih 35 Sb</td>\n",
       "      <td>ARCHIVED</td>\n",
       "      <td>04/17/2020 09:55:03 PM +0000</td>\n",
       "    </tr>\n",
       "    <tr>\n",
       "      <th>4</th>\n",
       "      <td>E7F9EFF0E81057A5C8FE41CABE4D9C6EEA82DAA0_15871...</td>\n",
       "      <td>04/17/2020 09:00:55 PM +0000</td>\n",
       "      <td>Crash Urgent</td>\n",
       "      <td>(30.184265,-97.687339)</td>\n",
       "      <td>30.184265</td>\n",
       "      <td>-97.687339</td>\n",
       "      <td>4500-4720 S Us 183 Hwy Sb</td>\n",
       "      <td>ARCHIVED</td>\n",
       "      <td>04/17/2020 11:30:04 PM +0000</td>\n",
       "    </tr>\n",
       "  </tbody>\n",
       "</table>\n",
       "</div>"
      ],
      "text/plain": [
       "                                   Traffic Report ID  \\\n",
       "0  C163BCD1CF90C984E9EDA4DBA311BCA369A7D1A1_15288...   \n",
       "1  6B20382196FB454E9FD06A33E60142902A2F0706_15288...   \n",
       "2  2A7A84FC69D56A2C379C274D2F0831442D3E7B8E_15871...   \n",
       "3  89D3B75BB5932F10D25B5852A9902DA26C3DF11A_15871...   \n",
       "4  E7F9EFF0E81057A5C8FE41CABE4D9C6EEA82DAA0_15871...   \n",
       "\n",
       "                 Published Date  Issue Reported                Location  \\\n",
       "0  06/13/2018 06:35:59 AM +0000   Crash Service  (30.283797,-97.741906)   \n",
       "1  06/13/2018 10:15:36 AM +0000  Traffic Hazard  (30.339593,-97.700963)   \n",
       "2  04/17/2020 09:25:03 PM +0000    Crash Urgent  (30.329455,-97.638105)   \n",
       "3  04/17/2020 09:40:52 PM +0000  Traffic Hazard  (30.202806,-97.760701)   \n",
       "4  04/17/2020 09:00:55 PM +0000    Crash Urgent  (30.184265,-97.687339)   \n",
       "\n",
       "    Latitude  Longitude                                      Address  \\\n",
       "0  30.283797 -97.741906                     W 21ST ST & GUADALUPE ST   \n",
       "1  30.339593 -97.700963                     400-717 E ANDERSON LN EB   \n",
       "2  30.329455 -97.638105  E US 290 HWY SVRD EB & EASTERN HEIGHTS BLVD   \n",
       "3  30.202806 -97.760701                          5300-blk S Ih 35 Sb   \n",
       "4  30.184265 -97.687339                    4500-4720 S Us 183 Hwy Sb   \n",
       "\n",
       "     Status                   Status Date  \n",
       "0  ARCHIVED  06/13/2018 09:00:03 AM +0000  \n",
       "1  ARCHIVED  06/13/2018 11:20:03 AM +0000  \n",
       "2  ARCHIVED  04/17/2020 09:55:03 PM +0000  \n",
       "3  ARCHIVED  04/17/2020 09:55:03 PM +0000  \n",
       "4  ARCHIVED  04/17/2020 11:30:04 PM +0000  "
      ]
     },
     "execution_count": 3,
     "metadata": {},
     "output_type": "execute_result"
    }
   ],
   "source": [
    "df.head()"
   ]
  },
  {
   "cell_type": "code",
   "execution_count": 4,
   "id": "86f5ca4b",
   "metadata": {},
   "outputs": [
    {
     "data": {
      "text/plain": [
       "Traffic Report ID     object\n",
       "Published Date        object\n",
       "Issue Reported        object\n",
       "Location              object\n",
       "Latitude             float64\n",
       "Longitude            float64\n",
       "Address               object\n",
       "Status                object\n",
       "Status Date           object\n",
       "dtype: object"
      ]
     },
     "execution_count": 4,
     "metadata": {},
     "output_type": "execute_result"
    }
   ],
   "source": [
    "df.dtypes"
   ]
  },
  {
   "cell_type": "code",
   "execution_count": 13,
   "id": "b5718179",
   "metadata": {},
   "outputs": [
    {
     "data": {
      "text/plain": [
       "(286460, 8)"
      ]
     },
     "execution_count": 13,
     "metadata": {},
     "output_type": "execute_result"
    }
   ],
   "source": [
    "df.shape"
   ]
  },
  {
   "cell_type": "markdown",
   "id": "12bc3557",
   "metadata": {},
   "source": [
    "#### Drop Unuseful Column"
   ]
  },
  {
   "cell_type": "code",
   "execution_count": 5,
   "id": "8f3bfa74",
   "metadata": {},
   "outputs": [],
   "source": [
    "df.drop(columns = 'Traffic Report ID', inplace = True)"
   ]
  },
  {
   "cell_type": "code",
   "execution_count": 6,
   "id": "6e8373ce",
   "metadata": {},
   "outputs": [
    {
     "data": {
      "text/html": [
       "<div>\n",
       "<style scoped>\n",
       "    .dataframe tbody tr th:only-of-type {\n",
       "        vertical-align: middle;\n",
       "    }\n",
       "\n",
       "    .dataframe tbody tr th {\n",
       "        vertical-align: top;\n",
       "    }\n",
       "\n",
       "    .dataframe thead th {\n",
       "        text-align: right;\n",
       "    }\n",
       "</style>\n",
       "<table border=\"1\" class=\"dataframe\">\n",
       "  <thead>\n",
       "    <tr style=\"text-align: right;\">\n",
       "      <th></th>\n",
       "      <th>Published Date</th>\n",
       "      <th>Issue Reported</th>\n",
       "      <th>Location</th>\n",
       "      <th>Latitude</th>\n",
       "      <th>Longitude</th>\n",
       "      <th>Address</th>\n",
       "      <th>Status</th>\n",
       "      <th>Status Date</th>\n",
       "    </tr>\n",
       "  </thead>\n",
       "  <tbody>\n",
       "    <tr>\n",
       "      <th>0</th>\n",
       "      <td>06/13/2018 06:35:59 AM +0000</td>\n",
       "      <td>Crash Service</td>\n",
       "      <td>(30.283797,-97.741906)</td>\n",
       "      <td>30.283797</td>\n",
       "      <td>-97.741906</td>\n",
       "      <td>W 21ST ST &amp; GUADALUPE ST</td>\n",
       "      <td>ARCHIVED</td>\n",
       "      <td>06/13/2018 09:00:03 AM +0000</td>\n",
       "    </tr>\n",
       "    <tr>\n",
       "      <th>1</th>\n",
       "      <td>06/13/2018 10:15:36 AM +0000</td>\n",
       "      <td>Traffic Hazard</td>\n",
       "      <td>(30.339593,-97.700963)</td>\n",
       "      <td>30.339593</td>\n",
       "      <td>-97.700963</td>\n",
       "      <td>400-717 E ANDERSON LN EB</td>\n",
       "      <td>ARCHIVED</td>\n",
       "      <td>06/13/2018 11:20:03 AM +0000</td>\n",
       "    </tr>\n",
       "    <tr>\n",
       "      <th>2</th>\n",
       "      <td>04/17/2020 09:25:03 PM +0000</td>\n",
       "      <td>Crash Urgent</td>\n",
       "      <td>(30.329455,-97.638105)</td>\n",
       "      <td>30.329455</td>\n",
       "      <td>-97.638105</td>\n",
       "      <td>E US 290 HWY SVRD EB &amp; EASTERN HEIGHTS BLVD</td>\n",
       "      <td>ARCHIVED</td>\n",
       "      <td>04/17/2020 09:55:03 PM +0000</td>\n",
       "    </tr>\n",
       "    <tr>\n",
       "      <th>3</th>\n",
       "      <td>04/17/2020 09:40:52 PM +0000</td>\n",
       "      <td>Traffic Hazard</td>\n",
       "      <td>(30.202806,-97.760701)</td>\n",
       "      <td>30.202806</td>\n",
       "      <td>-97.760701</td>\n",
       "      <td>5300-blk S Ih 35 Sb</td>\n",
       "      <td>ARCHIVED</td>\n",
       "      <td>04/17/2020 09:55:03 PM +0000</td>\n",
       "    </tr>\n",
       "    <tr>\n",
       "      <th>4</th>\n",
       "      <td>04/17/2020 09:00:55 PM +0000</td>\n",
       "      <td>Crash Urgent</td>\n",
       "      <td>(30.184265,-97.687339)</td>\n",
       "      <td>30.184265</td>\n",
       "      <td>-97.687339</td>\n",
       "      <td>4500-4720 S Us 183 Hwy Sb</td>\n",
       "      <td>ARCHIVED</td>\n",
       "      <td>04/17/2020 11:30:04 PM +0000</td>\n",
       "    </tr>\n",
       "  </tbody>\n",
       "</table>\n",
       "</div>"
      ],
      "text/plain": [
       "                 Published Date  Issue Reported                Location  \\\n",
       "0  06/13/2018 06:35:59 AM +0000   Crash Service  (30.283797,-97.741906)   \n",
       "1  06/13/2018 10:15:36 AM +0000  Traffic Hazard  (30.339593,-97.700963)   \n",
       "2  04/17/2020 09:25:03 PM +0000    Crash Urgent  (30.329455,-97.638105)   \n",
       "3  04/17/2020 09:40:52 PM +0000  Traffic Hazard  (30.202806,-97.760701)   \n",
       "4  04/17/2020 09:00:55 PM +0000    Crash Urgent  (30.184265,-97.687339)   \n",
       "\n",
       "    Latitude  Longitude                                      Address  \\\n",
       "0  30.283797 -97.741906                     W 21ST ST & GUADALUPE ST   \n",
       "1  30.339593 -97.700963                     400-717 E ANDERSON LN EB   \n",
       "2  30.329455 -97.638105  E US 290 HWY SVRD EB & EASTERN HEIGHTS BLVD   \n",
       "3  30.202806 -97.760701                          5300-blk S Ih 35 Sb   \n",
       "4  30.184265 -97.687339                    4500-4720 S Us 183 Hwy Sb   \n",
       "\n",
       "     Status                   Status Date  \n",
       "0  ARCHIVED  06/13/2018 09:00:03 AM +0000  \n",
       "1  ARCHIVED  06/13/2018 11:20:03 AM +0000  \n",
       "2  ARCHIVED  04/17/2020 09:55:03 PM +0000  \n",
       "3  ARCHIVED  04/17/2020 09:55:03 PM +0000  \n",
       "4  ARCHIVED  04/17/2020 11:30:04 PM +0000  "
      ]
     },
     "execution_count": 6,
     "metadata": {},
     "output_type": "execute_result"
    }
   ],
   "source": [
    "df.head()"
   ]
  },
  {
   "cell_type": "markdown",
   "id": "e83e47a9",
   "metadata": {},
   "source": [
    "#### Changing Date Datatype"
   ]
  },
  {
   "cell_type": "code",
   "execution_count": 7,
   "id": "cf4d13b1",
   "metadata": {},
   "outputs": [],
   "source": [
    "df['Published Date'] = pd.to_datetime(df['Published Date'], infer_datetime_format=True)"
   ]
  },
  {
   "cell_type": "code",
   "execution_count": 8,
   "id": "9255a6d4",
   "metadata": {},
   "outputs": [],
   "source": [
    "df = df.set_index(df['Published Date'])"
   ]
  },
  {
   "cell_type": "code",
   "execution_count": 28,
   "id": "c207950e",
   "metadata": {},
   "outputs": [
    {
     "data": {
      "text/plain": [
       "Published Date    datetime64[ns, UTC]\n",
       "Issue Reported                 object\n",
       "Location                       object\n",
       "Latitude                      float64\n",
       "Longitude                     float64\n",
       "Address                        object\n",
       "Status                         object\n",
       "Status Date                    object\n",
       "dtype: object"
      ]
     },
     "execution_count": 28,
     "metadata": {},
     "output_type": "execute_result"
    }
   ],
   "source": [
    "df.dtypes"
   ]
  },
  {
   "cell_type": "markdown",
   "id": "0e1e1194",
   "metadata": {},
   "source": [
    "#### Check NaN"
   ]
  },
  {
   "cell_type": "code",
   "execution_count": 8,
   "id": "a3985b0b",
   "metadata": {},
   "outputs": [
    {
     "data": {
      "text/plain": [
       "Published Date       0\n",
       "Issue Reported       0\n",
       "Location           646\n",
       "Latitude            79\n",
       "Longitude           79\n",
       "Address              0\n",
       "Status            1693\n",
       "Status Date          0\n",
       "dtype: int64"
      ]
     },
     "execution_count": 8,
     "metadata": {},
     "output_type": "execute_result"
    }
   ],
   "source": [
    "df.isnull().sum()"
   ]
  },
  {
   "cell_type": "markdown",
   "id": "addcf2a7",
   "metadata": {},
   "source": [
    "#### Replace Location Nulls"
   ]
  },
  {
   "cell_type": "code",
   "execution_count": 8,
   "id": "b00eec48",
   "metadata": {},
   "outputs": [],
   "source": [
    "# Replace nulls with latitude and longitude\n",
    "df.Location.fillna(\"(\"+str(df.Latitude)+\",\"+str(df.Longitude)+\")\", inplace = True)"
   ]
  },
  {
   "cell_type": "code",
   "execution_count": 9,
   "id": "020eebba",
   "metadata": {},
   "outputs": [
    {
     "data": {
      "text/plain": [
       "Published Date       0\n",
       "Issue Reported       0\n",
       "Location             0\n",
       "Latitude            79\n",
       "Longitude           79\n",
       "Address              0\n",
       "Status            1693\n",
       "Status Date          0\n",
       "dtype: int64"
      ]
     },
     "execution_count": 9,
     "metadata": {},
     "output_type": "execute_result"
    }
   ],
   "source": [
    "# Check nulls\n",
    "df.isnull().sum()"
   ]
  },
  {
   "cell_type": "code",
   "execution_count": 10,
   "id": "42997ed7",
   "metadata": {},
   "outputs": [],
   "source": [
    "# Drop the null values in latitude and longitude\n",
    "df = df.dropna(subset = ['Latitude', 'Longitude'])"
   ]
  },
  {
   "cell_type": "code",
   "execution_count": 11,
   "id": "f341c949",
   "metadata": {},
   "outputs": [
    {
     "data": {
      "text/plain": [
       "Published Date       0\n",
       "Issue Reported       0\n",
       "Location             0\n",
       "Latitude             0\n",
       "Longitude            0\n",
       "Address              0\n",
       "Status            1691\n",
       "Status Date          0\n",
       "dtype: int64"
      ]
     },
     "execution_count": 11,
     "metadata": {},
     "output_type": "execute_result"
    }
   ],
   "source": [
    "# Check nulls again\n",
    "df.isnull().sum()"
   ]
  },
  {
   "cell_type": "code",
   "execution_count": 12,
   "id": "c3ac428b",
   "metadata": {},
   "outputs": [],
   "source": [
    "df.to_csv(\"cleaned_report.csv\")"
   ]
  },
  {
   "cell_type": "markdown",
   "id": "5d09936f",
   "metadata": {},
   "source": [
    "# EDA (Exploratory Data Analysis)"
   ]
  },
  {
   "cell_type": "markdown",
   "id": "5560cb1d",
   "metadata": {},
   "source": [
    "## Date"
   ]
  },
  {
   "cell_type": "code",
   "execution_count": 13,
   "id": "33ad66a0",
   "metadata": {},
   "outputs": [
    {
     "data": {
      "text/plain": [
       "Timestamp('2017-09-26 04:11:00+0000', tz='UTC')"
      ]
     },
     "execution_count": 13,
     "metadata": {},
     "output_type": "execute_result"
    }
   ],
   "source": [
    "# Look at the date range of this dataset\n",
    "df['Published Date'].min()"
   ]
  },
  {
   "cell_type": "code",
   "execution_count": 14,
   "id": "c78993ff",
   "metadata": {},
   "outputs": [
    {
     "data": {
      "text/plain": [
       "Timestamp('2022-08-27 12:58:56+0000', tz='UTC')"
      ]
     },
     "execution_count": 14,
     "metadata": {},
     "output_type": "execute_result"
    }
   ],
   "source": [
    "df['Published Date'].max()"
   ]
  },
  {
   "cell_type": "markdown",
   "id": "52157844",
   "metadata": {},
   "source": [
    "#### Date in this dataset range from 2017-09-26 to 2022-08-27"
   ]
  },
  {
   "cell_type": "markdown",
   "id": "c5441bc0",
   "metadata": {},
   "source": [
    "### Incidents per Year"
   ]
  },
  {
   "cell_type": "code",
   "execution_count": 32,
   "id": "60a6f713",
   "metadata": {},
   "outputs": [],
   "source": [
    "count_per_year = df['Issue Reported'].resample('Y').count()"
   ]
  },
  {
   "cell_type": "code",
   "execution_count": 33,
   "id": "d111c675",
   "metadata": {},
   "outputs": [
    {
     "data": {
      "text/plain": [
       "Published Date\n",
       "2017-12-31 00:00:00+00:00    17139\n",
       "2018-12-31 00:00:00+00:00    70047\n",
       "2019-12-31 00:00:00+00:00    68051\n",
       "2020-12-31 00:00:00+00:00    45320\n",
       "2021-12-31 00:00:00+00:00    51338\n",
       "2022-12-31 00:00:00+00:00    34565\n",
       "Freq: A-DEC, Name: Issue Reported, dtype: int64"
      ]
     },
     "execution_count": 33,
     "metadata": {},
     "output_type": "execute_result"
    }
   ],
   "source": [
    "count_per_year"
   ]
  },
  {
   "cell_type": "markdown",
   "id": "ae445199",
   "metadata": {},
   "source": [
    "## Issue Reported"
   ]
  },
  {
   "cell_type": "code",
   "execution_count": 17,
   "id": "50bb24cf",
   "metadata": {},
   "outputs": [
    {
     "data": {
      "text/plain": [
       "Traffic Hazard                88355\n",
       "Crash Urgent                  67919\n",
       "Crash Service                 41509\n",
       "COLLISION                     26239\n",
       "TRFC HAZD/ DEBRIS             20542\n",
       "zSTALLED VEHICLE               8925\n",
       "LOOSE LIVESTOCK                7328\n",
       "COLLISION WITH INJURY          6960\n",
       "Traffic Impediment             6252\n",
       "COLLISN/ LVNG SCN              4981\n",
       "Stalled Vehicle                4278\n",
       "COLLISION/PRIVATE PROPERTY     1160\n",
       "VEHICLE FIRE                   1000\n",
       "BLOCKED DRIV/ HWY               612\n",
       "BOAT ACCIDENT                   118\n",
       "AUTO/ PED                        80\n",
       "TRAFFIC FATALITY                 77\n",
       "ICY ROADWAY                      64\n",
       "FLEET ACC/ INJURY                38\n",
       "N / HZRD TRFC VIOL                9\n",
       "OBSTRUCT HWY                      8\n",
       "FLEET ACC/ FATAL                  3\n",
       "HIGH WATER                        2\n",
       "COLLISN / FTSRA                   1\n",
       "Name: Issue Reported, dtype: int64"
      ]
     },
     "execution_count": 17,
     "metadata": {},
     "output_type": "execute_result"
    }
   ],
   "source": [
    "df['Issue Reported'].value_counts()"
   ]
  },
  {
   "cell_type": "code",
   "execution_count": 18,
   "id": "3cb8f23d",
   "metadata": {},
   "outputs": [
    {
     "data": {
      "text/html": [
       "<div>\n",
       "<style scoped>\n",
       "    .dataframe tbody tr th:only-of-type {\n",
       "        vertical-align: middle;\n",
       "    }\n",
       "\n",
       "    .dataframe tbody tr th {\n",
       "        vertical-align: top;\n",
       "    }\n",
       "\n",
       "    .dataframe thead th {\n",
       "        text-align: right;\n",
       "    }\n",
       "</style>\n",
       "<table border=\"1\" class=\"dataframe\">\n",
       "  <thead>\n",
       "    <tr style=\"text-align: right;\">\n",
       "      <th></th>\n",
       "      <th>Issue Reported</th>\n",
       "    </tr>\n",
       "  </thead>\n",
       "  <tbody>\n",
       "    <tr>\n",
       "      <th>Traffic Hazard</th>\n",
       "      <td>88355</td>\n",
       "    </tr>\n",
       "    <tr>\n",
       "      <th>Crash Urgent</th>\n",
       "      <td>67919</td>\n",
       "    </tr>\n",
       "    <tr>\n",
       "      <th>Crash Service</th>\n",
       "      <td>41509</td>\n",
       "    </tr>\n",
       "    <tr>\n",
       "      <th>COLLISION</th>\n",
       "      <td>26239</td>\n",
       "    </tr>\n",
       "    <tr>\n",
       "      <th>TRFC HAZD/ DEBRIS</th>\n",
       "      <td>20542</td>\n",
       "    </tr>\n",
       "    <tr>\n",
       "      <th>zSTALLED VEHICLE</th>\n",
       "      <td>8925</td>\n",
       "    </tr>\n",
       "    <tr>\n",
       "      <th>LOOSE LIVESTOCK</th>\n",
       "      <td>7328</td>\n",
       "    </tr>\n",
       "    <tr>\n",
       "      <th>COLLISION WITH INJURY</th>\n",
       "      <td>6960</td>\n",
       "    </tr>\n",
       "    <tr>\n",
       "      <th>Traffic Impediment</th>\n",
       "      <td>6252</td>\n",
       "    </tr>\n",
       "    <tr>\n",
       "      <th>COLLISN/ LVNG SCN</th>\n",
       "      <td>4981</td>\n",
       "    </tr>\n",
       "  </tbody>\n",
       "</table>\n",
       "</div>"
      ],
      "text/plain": [
       "                       Issue Reported\n",
       "Traffic Hazard                  88355\n",
       "Crash Urgent                    67919\n",
       "Crash Service                   41509\n",
       "COLLISION                       26239\n",
       "TRFC HAZD/ DEBRIS               20542\n",
       "zSTALLED VEHICLE                 8925\n",
       "LOOSE LIVESTOCK                  7328\n",
       "COLLISION WITH INJURY            6960\n",
       "Traffic Impediment               6252\n",
       "COLLISN/ LVNG SCN                4981"
      ]
     },
     "execution_count": 18,
     "metadata": {},
     "output_type": "execute_result"
    }
   ],
   "source": [
    "# Put the top 10 issue and counts into a new dataframe\n",
    "issues = pd.DataFrame(df['Issue Reported'].value_counts().head(10))\n",
    "issues"
   ]
  },
  {
   "cell_type": "code",
   "execution_count": 25,
   "id": "2acf3b09",
   "metadata": {},
   "outputs": [
    {
     "data": {
      "text/plain": [
       "<AxesSubplot:title={'center':'Top 10 Issue Reported 2017-2022'}, xlabel='Type of Issue', ylabel='Issue Reported'>"
      ]
     },
     "execution_count": 25,
     "metadata": {},
     "output_type": "execute_result"
    },
    {
     "data": {
      "image/png": "[encoded data removed]",
      "text/plain": [
       "<Figure size 1296x648 with 1 Axes>"
      ]
     },
     "metadata": {
      "needs_background": "light"
     },
     "output_type": "display_data"
    }
   ],
   "source": [
    "plt.figure(figsize = (18,9))\n",
    "plt.xlabel('Type of Issue', fontsize = 16)\n",
    "plt.ylabel('No. of Issue', fontsize = 16)\n",
    "plt.title('Top 10 Issue Reported 2017-2022', fontsize = 20)\n",
    "sns.barplot(x=issues.index,y=issues['Issue Reported'], palette = 'rocket')"
   ]
  },
  {
   "cell_type": "code",
   "execution_count": null,
   "id": "b891ae55",
   "metadata": {},
   "outputs": [],
   "source": []
  }
 ],
 "metadata": {
  "kernelspec": {
   "display_name": "Python 3 (ipykernel)",
   "language": "python",
   "name": "python3"
  },
  "language_info": {
   "codemirror_mode": {
    "name": "ipython",
    "version": 3
   },
   "file_extension": ".py",
   "mimetype": "text/x-python",
   "name": "python",
   "nbconvert_exporter": "python",
   "pygments_lexer": "ipython3",
   "version": "3.9.12"
  }
 },
 "nbformat": 4,
 "nbformat_minor": 5
}
